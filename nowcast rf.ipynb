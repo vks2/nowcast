{
 "cells": [
  {
   "cell_type": "code",
   "execution_count": 35,
   "id": "b6a3eee3",
   "metadata": {},
   "outputs": [
    {
     "name": "stdout",
     "output_type": "stream",
     "text": [
      "[{'country': 'japan', 'news_time': 'Tue, 09 Jul 2024 00:00:00 GMT', 'replace': {'Date': '2024-02-29T00:00:00', 'job_vacancies': 864, 'personal_savings': 29}}]\n"
     ]
    }
   ],
   "source": [
    "import requests\n",
    "try:\n",
    "    r = requests.get('https://serv.raisk.ru:5111/calendar')\n",
    "    print(r.json())\n",
    "except Exception as ex:\n",
    "    print(r.text)\n",
    "    print(ex)"
   ]
  }
 ],
 "metadata": {
  "kernelspec": {
   "display_name": "Python 3 (ipykernel)",
   "language": "python",
   "name": "python3"
  },
  "language_info": {
   "codemirror_mode": {
    "name": "ipython",
    "version": 3
   },
   "file_extension": ".py",
   "mimetype": "text/x-python",
   "name": "python",
   "nbconvert_exporter": "python",
   "pygments_lexer": "ipython3",
   "version": "3.10.9"
  }
 },
 "nbformat": 4,
 "nbformat_minor": 5
}
