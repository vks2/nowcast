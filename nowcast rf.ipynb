{
 "cells": [
  {
   "cell_type": "code",
   "execution_count": 35,
   "id": "b6a3eee3",
   "metadata": {},
   "outputs": [
    {
     "name": "stdout",
     "output_type": "stream",
     "text": [
      "[{'country': 'japan', 'news_time': 'Tue, 09 Jul 2024 00:00:00 GMT', 'replace': {'Date': '2024-02-29T00:00:00', 'job_vacancies': 864, 'personal_savings': 29}}]\n"
     ]
    }
   ],
   "source": [
    "import requests\n",
    "try:\n",
    "    r = requests.get('https://serv.raisk.ru:5111/calendar')\n",
    "    print(r.json())\n",
    "except Exception as ex:\n",
    "    print(r.text)\n",
    "    print(ex)"
   ]
  },
  {
   "cell_type": "code",
   "execution_count": 1,
   "id": "a0937277",
   "metadata": {},
   "outputs": [
    {
     "name": "stdout",
     "output_type": "stream",
     "text": [
      "[{'country': 'brazil', 'news_time': 'Sun, 07 Jul 2024 00:00:00 GMT', 'replace': {'Date': '2024-04-30T00:00:00', 'bank_lending_rate': 53, 'capital_flows': -3128, 'consumer_price_Date_cpi': 6895, 'government_debt': 8424193, 'government_revenues': 228873, 'labour_costs': 135, 'minimum_wages': 1412, 'productivity': 135}}]\n"
     ]
    }
   ],
   "source": [
    "import requests\n",
    "try:\n",
    "    r = requests.get('https://serv.raisk.ru:5111/calendar')\n",
    "    print(r.json())\n",
    "except Exception as ex:\n",
    "    print(r.text)\n",
    "    print(ex)"
   ]
  },
  {
   "cell_type": "code",
   "execution_count": 2,
   "id": "e00a0f52",
   "metadata": {},
   "outputs": [
    {
     "name": "stdout",
     "output_type": "stream",
     "text": [
      "[{'country': 'saudi_arabia', 'news_time': 'Sun, 07 Jul 2024 00:00:00 GMT', 'replace': {'Date': '2024-06-30T00:00:00', 'interest_rate': 6, 'manufacturing_pmi': 55}}]\n"
     ]
    }
   ],
   "source": [
    "import requests\n",
    "try:\n",
    "    r = requests.get('https://serv.raisk.ru:5111/calendar')\n",
    "    print(r.json())\n",
    "except Exception as ex:\n",
    "    print(r.text)\n",
    "    print(ex)"
   ]
  }
 ],
 "metadata": {
  "kernelspec": {
   "display_name": "Python 3 (ipykernel)",
   "language": "python",
   "name": "python3"
  },
  "language_info": {
   "codemirror_mode": {
    "name": "ipython",
    "version": 3
   },
   "file_extension": ".py",
   "mimetype": "text/x-python",
   "name": "python",
   "nbconvert_exporter": "python",
   "pygments_lexer": "ipython3",
   "version": "3.10.9"
  }
 },
 "nbformat": 4,
 "nbformat_minor": 5
}
